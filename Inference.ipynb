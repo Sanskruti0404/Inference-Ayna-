{
  "cells": [
    {
      "cell_type": "code",
      "execution_count": 1,
      "metadata": {
        "colab": {
          "base_uri": "https://localhost:8080/"
        },
        "id": "UvkKVfHbo-yo",
        "outputId": "e6359ace-9ead-4c85-8dd3-04579e920a0f"
      },
      "outputs": [
        {
          "output_type": "stream",
          "name": "stdout",
          "text": [
            "Archive:  dataset.zip\n",
            "   creating: dataset/\n",
            "  inflating: dataset/.DS_Store       \n",
            "  inflating: __MACOSX/dataset/._.DS_Store  \n",
            "   creating: dataset/training/\n",
            "   creating: dataset/validation/\n",
            "  inflating: dataset/training/data.json  \n",
            "   creating: dataset/training/outputs/\n",
            "   creating: dataset/training/inputs/\n",
            "  inflating: dataset/validation/data.json  \n",
            "   creating: dataset/validation/outputs/\n",
            "   creating: dataset/validation/inputs/\n",
            "  inflating: dataset/training/outputs/green_octagon.png  \n",
            "  inflating: dataset/training/outputs/blue_hexagon.png  \n",
            "  inflating: dataset/training/outputs/green_diamond.png  \n",
            "  inflating: dataset/training/outputs/cyan_triangle.png  \n",
            "  inflating: dataset/training/outputs/purple_square.png  \n",
            "  inflating: dataset/training/outputs/orange_pentagon.png  \n",
            "  inflating: dataset/training/outputs/magenta_circle.png  \n",
            "  inflating: dataset/training/outputs/blue_triangle.png  \n",
            "  inflating: dataset/training/outputs/red_pentagon.png  \n",
            "  inflating: dataset/training/outputs/magenta_triangle.png  \n",
            "  inflating: dataset/training/outputs/cyan_star.png  \n",
            "  inflating: dataset/training/outputs/yellow_pentagon.png  \n",
            "  inflating: dataset/training/outputs/blue_square.png  \n",
            "  inflating: dataset/training/outputs/cyan_octagon.png  \n",
            "  inflating: dataset/training/outputs/cyan_diamond.png  \n",
            "  inflating: dataset/training/outputs/cyan_circle.png  \n",
            "  inflating: dataset/training/outputs/purple_triangle.png  \n",
            "  inflating: dataset/training/outputs/green_circle.png  \n",
            "  inflating: dataset/training/outputs/red_circle.png  \n",
            "  inflating: dataset/training/outputs/magenta_octagon.png  \n",
            "  inflating: dataset/training/outputs/purple_hexagon.png  \n",
            "  inflating: dataset/training/outputs/magenta_diamond.png  \n",
            "  inflating: dataset/training/outputs/red_octagon.png  \n",
            "  inflating: dataset/training/outputs/red_diamond.png  \n",
            "  inflating: dataset/training/outputs/yellow_diamond.png  \n",
            "  inflating: dataset/training/outputs/orange_hexagon.png  \n",
            "  inflating: dataset/training/outputs/yellow_octagon.png  \n",
            "  inflating: dataset/training/outputs/orange_circle.png  \n",
            "  inflating: dataset/training/outputs/magenta_hexagon.png  \n",
            "  inflating: dataset/training/outputs/purple_diamond.png  \n",
            "  inflating: dataset/training/outputs/purple_octagon.png  \n",
            "  inflating: dataset/training/outputs/red_hexagon.png  \n",
            "  inflating: dataset/training/outputs/orange_diamond.png  \n",
            "  inflating: dataset/training/outputs/orange_octagon.png  \n",
            "  inflating: dataset/training/outputs/purple_star.png  \n",
            "  inflating: dataset/training/outputs/yellow_hexagon.png  \n",
            "  inflating: dataset/training/outputs/purple_pentagon.png  \n",
            "  inflating: dataset/training/outputs/purple_circle.png  \n",
            "  inflating: dataset/training/outputs/cyan_hexagon.png  \n",
            "  inflating: dataset/training/outputs/magenta_square.png  \n",
            "  inflating: dataset/training/outputs/yellow_triangle.png  \n",
            "  inflating: dataset/training/outputs/green_pentagon.png  \n",
            "  inflating: dataset/training/outputs/blue_circle.png  \n",
            "  inflating: dataset/training/outputs/red_star.png  \n",
            "  inflating: dataset/training/outputs/yellow_circle.png  \n",
            "  inflating: dataset/training/outputs/orange_triangle.png  \n",
            "  inflating: dataset/training/outputs/green_square.png  \n",
            "  inflating: dataset/training/outputs/red_square.png  \n",
            "  inflating: dataset/training/outputs/red_triangle.png  \n",
            "  inflating: dataset/training/outputs/blue_pentagon.png  \n",
            "  inflating: dataset/training/outputs/magenta_pentagon.png  \n",
            "  inflating: dataset/training/outputs/green_star.png  \n",
            "  inflating: dataset/training/outputs/orange_square.png  \n",
            "  inflating: dataset/training/outputs/green_hexagon.png  \n",
            "  inflating: dataset/training/outputs/blue_octagon.png  \n",
            "  inflating: dataset/training/outputs/blue_diamond.png  \n",
            "  inflating: dataset/training/inputs/hexagon.png  \n",
            "  inflating: dataset/training/inputs/circle.png  \n",
            "  inflating: dataset/training/inputs/triangle.png  \n",
            "  inflating: dataset/training/inputs/pentagon.png  \n",
            "  inflating: dataset/training/inputs/octagon.png  \n",
            "  inflating: dataset/training/inputs/diamond.png  \n",
            "  inflating: dataset/training/inputs/star.png  \n",
            "  inflating: dataset/training/inputs/square.png  \n",
            "  inflating: dataset/validation/outputs/yellow_star.png  \n",
            "  inflating: dataset/validation/outputs/green_triangle.png  \n",
            "  inflating: dataset/validation/outputs/yellow_square.png  \n",
            "  inflating: dataset/validation/outputs/cyan_square.png  \n",
            "  inflating: dataset/validation/outputs/blue_octagon.png  \n",
            "  inflating: dataset/validation/inputs/triangle.png  \n",
            "  inflating: dataset/validation/inputs/octagon.png  \n",
            "  inflating: dataset/validation/inputs/star.png  \n",
            "  inflating: dataset/validation/inputs/square.png  \n"
          ]
        }
      ],
      "source": [
        "!unzip dataset.zip\n"
      ]
    },
    {
      "cell_type": "code",
      "execution_count": 2,
      "metadata": {
        "id": "7OTY_1K5ppmQ"
      },
      "outputs": [],
      "source": [
        "import os\n",
        "import json\n",
        "import torch\n",
        "import wandb\n",
        "import random\n",
        "import torchvision.transforms as T\n",
        "from torch import nn, optim\n",
        "from torch.utils.data import Dataset, DataLoader\n",
        "from PIL import Image\n",
        "from tqdm import tqdm\n"
      ]
    },
    {
      "cell_type": "code",
      "execution_count": 3,
      "metadata": {
        "id": "05R4hyNmp2h4"
      },
      "outputs": [],
      "source": [
        "import os\n",
        "import json\n",
        "import torch\n",
        "import wandb\n",
        "import random\n",
        "import torchvision.transforms as T\n",
        "from torch import nn, optim\n",
        "from torch.utils.data import Dataset, DataLoader\n",
        "from PIL import Image\n",
        "from tqdm import tqdm\n",
        "\n",
        "class PolygonColorDataset(Dataset):\n",
        "    def __init__(self, root_dir, transform=None):\n",
        "        self.input_dir = os.path.join(root_dir, \"inputs\")\n",
        "        self.output_dir = os.path.join(root_dir, \"outputs\")\n",
        "        with open(os.path.join(root_dir, \"data.json\"), \"r\") as f:\n",
        "            self.data = json.load(f)\n",
        "        self.transform = transform\n",
        "        self.color_dict = {\n",
        "            \"red\": (1, 0, 0),\n",
        "            \"green\": (0, 1, 0),\n",
        "            \"blue\": (0, 0, 1),\n",
        "            \"yellow\": (1, 1, 0),\n",
        "            \"purple\": (1, 0, 1),\n",
        "            \"cyan\": (0, 1, 1),\n",
        "            \"black\": (0, 0, 0),\n",
        "            \"white\": (1, 1, 1),\n",
        "            \"orange\": (1, 0.5, 0), # Added orange\n",
        "            \"magenta\": (1, 0, 1) # Added magenta\n",
        "        }\n",
        "\n",
        "\n",
        "    def __len__(self):\n",
        "        return len(self.data)\n",
        "\n",
        "    def __getitem__(self, idx):\n",
        "        entry = self.data[idx]\n",
        "        input_img = Image.open(os.path.join(self.input_dir, entry[\"input_polygon\"])).convert(\"L\")\n",
        "        output_img = Image.open(os.path.join(self.output_dir, entry[\"output_image\"])).convert(\"RGB\")\n",
        "        color_vec = torch.tensor(self.color_dict[entry[\"colour\"]], dtype=torch.float32)\n",
        "\n",
        "        if self.transform:\n",
        "            input_img = self.transform(input_img)\n",
        "            output_img = self.transform(output_img)\n",
        "\n",
        "        return input_img, color_vec, output_img"
      ]
    },
    {
      "cell_type": "code",
      "execution_count": 4,
      "metadata": {
        "id": "QrWFCmIIqCjl"
      },
      "outputs": [],
      "source": [
        "class ConvBlock(nn.Module):\n",
        "    def __init__(self, in_ch, out_ch):\n",
        "        super().__init__()\n",
        "        self.block = nn.Sequential(\n",
        "            nn.Conv2d(in_ch, out_ch, 3, padding=1),\n",
        "            nn.ReLU(),\n",
        "            nn.Conv2d(out_ch, out_ch, 3, padding=1),\n",
        "            nn.ReLU()\n",
        "        )\n",
        "\n",
        "    def forward(self, x):\n",
        "        return self.block(x)\n",
        "\n",
        "class UNet(nn.Module):\n",
        "    def __init__(self, in_ch=1, cond_ch=3, out_ch=3):\n",
        "        super().__init__()\n",
        "        self.enc1 = ConvBlock(in_ch + cond_ch, 64)\n",
        "        self.enc2 = ConvBlock(64, 128)\n",
        "        self.pool = nn.MaxPool2d(2)\n",
        "        self.dec1 = ConvBlock(128, 64)\n",
        "        self.final = nn.Conv2d(64, out_ch, 1)\n",
        "\n",
        "    def forward(self, x, cond):\n",
        "        cond = cond.view(cond.shape[0], cond.shape[1], 1, 1)\n",
        "        cond = cond.expand(-1, -1, x.shape[2], x.shape[3])\n",
        "        x = torch.cat([x, cond], dim=1)\n",
        "        x1 = self.enc1(x)\n",
        "        x2 = self.pool(x1)\n",
        "        x3 = self.enc2(x2)\n",
        "        x4 = nn.functional.interpolate(x3, scale_factor=2, mode='bilinear', align_corners=False)\n",
        "        x5 = self.dec1(x4)\n",
        "        return self.final(x5)"
      ]
    },
    {
      "cell_type": "code",
      "execution_count": 5,
      "metadata": {
        "id": "zCD5q8XbqIto",
        "colab": {
          "base_uri": "https://localhost:8080/",
          "height": 800
        },
        "outputId": "bc275e07-9162-4da5-e594-356af1304907"
      },
      "outputs": [
        {
          "output_type": "display_data",
          "data": {
            "text/plain": [
              "<IPython.core.display.Javascript object>"
            ],
            "application/javascript": [
              "\n",
              "        window._wandbApiKey = new Promise((resolve, reject) => {\n",
              "            function loadScript(url) {\n",
              "            return new Promise(function(resolve, reject) {\n",
              "                let newScript = document.createElement(\"script\");\n",
              "                newScript.onerror = reject;\n",
              "                newScript.onload = resolve;\n",
              "                document.body.appendChild(newScript);\n",
              "                newScript.src = url;\n",
              "            });\n",
              "            }\n",
              "            loadScript(\"https://cdn.jsdelivr.net/npm/postmate/build/postmate.min.js\").then(() => {\n",
              "            const iframe = document.createElement('iframe')\n",
              "            iframe.style.cssText = \"width:0;height:0;border:none\"\n",
              "            document.body.appendChild(iframe)\n",
              "            const handshake = new Postmate({\n",
              "                container: iframe,\n",
              "                url: 'https://wandb.ai/authorize'\n",
              "            });\n",
              "            const timeout = setTimeout(() => reject(\"Couldn't auto authenticate\"), 5000)\n",
              "            handshake.then(function(child) {\n",
              "                child.on('authorize', data => {\n",
              "                    clearTimeout(timeout)\n",
              "                    resolve(data)\n",
              "                });\n",
              "            });\n",
              "            })\n",
              "        });\n",
              "    "
            ]
          },
          "metadata": {}
        },
        {
          "output_type": "stream",
          "name": "stderr",
          "text": [
            "\u001b[34m\u001b[1mwandb\u001b[0m: Logging into wandb.ai. (Learn how to deploy a W&B server locally: https://wandb.me/wandb-server)\n",
            "\u001b[34m\u001b[1mwandb\u001b[0m: You can find your API key in your browser here: https://wandb.ai/authorize?ref=models\n",
            "wandb: Paste an API key from your profile and hit enter:"
          ]
        },
        {
          "name": "stdout",
          "output_type": "stream",
          "text": [
            " ··········\n"
          ]
        },
        {
          "output_type": "stream",
          "name": "stderr",
          "text": [
            "\u001b[34m\u001b[1mwandb\u001b[0m: \u001b[33mWARNING\u001b[0m If you're specifying your api key in code, ensure this code is not shared publicly.\n",
            "\u001b[34m\u001b[1mwandb\u001b[0m: \u001b[33mWARNING\u001b[0m Consider setting the WANDB_API_KEY environment variable, or running `wandb login` from the command line.\n",
            "\u001b[34m\u001b[1mwandb\u001b[0m: No netrc file found, creating one.\n",
            "\u001b[34m\u001b[1mwandb\u001b[0m: Appending key for api.wandb.ai to your netrc file: /root/.netrc\n",
            "\u001b[34m\u001b[1mwandb\u001b[0m: Currently logged in as: \u001b[33mgirisanskruti0404\u001b[0m (\u001b[33mgirisanskruti0404-national-institute-of-technology-patna\u001b[0m) to \u001b[32mhttps://api.wandb.ai\u001b[0m. Use \u001b[1m`wandb login --relogin`\u001b[0m to force relogin\n"
          ]
        },
        {
          "output_type": "display_data",
          "data": {
            "text/plain": [
              "<IPython.core.display.HTML object>"
            ],
            "text/html": [
              "Tracking run with wandb version 0.21.0"
            ]
          },
          "metadata": {}
        },
        {
          "output_type": "display_data",
          "data": {
            "text/plain": [
              "<IPython.core.display.HTML object>"
            ],
            "text/html": [
              "Run data is saved locally in <code>/content/wandb/run-20250804_144616-fd0yujch</code>"
            ]
          },
          "metadata": {}
        },
        {
          "output_type": "display_data",
          "data": {
            "text/plain": [
              "<IPython.core.display.HTML object>"
            ],
            "text/html": [
              "Syncing run <strong><a href='https://wandb.ai/girisanskruti0404-national-institute-of-technology-patna/polygon-color-unet/runs/fd0yujch' target=\"_blank\">fearless-wood-11</a></strong> to <a href='https://wandb.ai/girisanskruti0404-national-institute-of-technology-patna/polygon-color-unet' target=\"_blank\">Weights & Biases</a> (<a href='https://wandb.me/developer-guide' target=\"_blank\">docs</a>)<br>"
            ]
          },
          "metadata": {}
        },
        {
          "output_type": "display_data",
          "data": {
            "text/plain": [
              "<IPython.core.display.HTML object>"
            ],
            "text/html": [
              " View project at <a href='https://wandb.ai/girisanskruti0404-national-institute-of-technology-patna/polygon-color-unet' target=\"_blank\">https://wandb.ai/girisanskruti0404-national-institute-of-technology-patna/polygon-color-unet</a>"
            ]
          },
          "metadata": {}
        },
        {
          "output_type": "display_data",
          "data": {
            "text/plain": [
              "<IPython.core.display.HTML object>"
            ],
            "text/html": [
              " View run at <a href='https://wandb.ai/girisanskruti0404-national-institute-of-technology-patna/polygon-color-unet/runs/fd0yujch' target=\"_blank\">https://wandb.ai/girisanskruti0404-national-institute-of-technology-patna/polygon-color-unet/runs/fd0yujch</a>"
            ]
          },
          "metadata": {}
        },
        {
          "output_type": "stream",
          "name": "stderr",
          "text": [
            "100%|██████████| 7/7 [00:01<00:00,  4.30it/s]\n"
          ]
        },
        {
          "output_type": "stream",
          "name": "stdout",
          "text": [
            "Epoch [1/15], Loss: 0.6268, Val Loss: 0.4755\n"
          ]
        },
        {
          "output_type": "stream",
          "name": "stderr",
          "text": [
            "100%|██████████| 7/7 [00:00<00:00, 23.96it/s]\n"
          ]
        },
        {
          "output_type": "stream",
          "name": "stdout",
          "text": [
            "Epoch [2/15], Loss: 0.5503, Val Loss: 0.5590\n"
          ]
        },
        {
          "output_type": "stream",
          "name": "stderr",
          "text": [
            "100%|██████████| 7/7 [00:00<00:00, 24.39it/s]\n"
          ]
        },
        {
          "output_type": "stream",
          "name": "stdout",
          "text": [
            "Epoch [3/15], Loss: 0.3376, Val Loss: 0.1534\n"
          ]
        },
        {
          "output_type": "stream",
          "name": "stderr",
          "text": [
            "100%|██████████| 7/7 [00:00<00:00, 24.12it/s]\n"
          ]
        },
        {
          "output_type": "stream",
          "name": "stdout",
          "text": [
            "Epoch [4/15], Loss: 0.1444, Val Loss: 0.1110\n"
          ]
        },
        {
          "output_type": "stream",
          "name": "stderr",
          "text": [
            "100%|██████████| 7/7 [00:00<00:00, 24.43it/s]\n"
          ]
        },
        {
          "output_type": "stream",
          "name": "stdout",
          "text": [
            "Epoch [5/15], Loss: 0.1233, Val Loss: 0.0852\n"
          ]
        },
        {
          "output_type": "stream",
          "name": "stderr",
          "text": [
            "100%|██████████| 7/7 [00:00<00:00, 24.62it/s]\n"
          ]
        },
        {
          "output_type": "stream",
          "name": "stdout",
          "text": [
            "Epoch [6/15], Loss: 0.1045, Val Loss: 0.0718\n"
          ]
        },
        {
          "output_type": "stream",
          "name": "stderr",
          "text": [
            "100%|██████████| 7/7 [00:00<00:00, 24.49it/s]\n"
          ]
        },
        {
          "output_type": "stream",
          "name": "stdout",
          "text": [
            "Epoch [7/15], Loss: 0.0979, Val Loss: 0.0694\n"
          ]
        },
        {
          "output_type": "stream",
          "name": "stderr",
          "text": [
            "100%|██████████| 7/7 [00:00<00:00, 24.44it/s]\n"
          ]
        },
        {
          "output_type": "stream",
          "name": "stdout",
          "text": [
            "Epoch [8/15], Loss: 0.0939, Val Loss: 0.0744\n"
          ]
        },
        {
          "output_type": "stream",
          "name": "stderr",
          "text": [
            "100%|██████████| 7/7 [00:00<00:00, 24.86it/s]\n"
          ]
        },
        {
          "output_type": "stream",
          "name": "stdout",
          "text": [
            "Epoch [9/15], Loss: 0.0905, Val Loss: 0.0664\n"
          ]
        },
        {
          "output_type": "stream",
          "name": "stderr",
          "text": [
            "100%|██████████| 7/7 [00:00<00:00, 24.61it/s]\n"
          ]
        },
        {
          "output_type": "stream",
          "name": "stdout",
          "text": [
            "Epoch [10/15], Loss: 0.0926, Val Loss: 0.0618\n"
          ]
        },
        {
          "output_type": "stream",
          "name": "stderr",
          "text": [
            "100%|██████████| 7/7 [00:00<00:00, 24.20it/s]\n"
          ]
        },
        {
          "output_type": "stream",
          "name": "stdout",
          "text": [
            "Epoch [11/15], Loss: 0.0871, Val Loss: 0.0625\n"
          ]
        },
        {
          "output_type": "stream",
          "name": "stderr",
          "text": [
            "100%|██████████| 7/7 [00:00<00:00, 24.65it/s]\n"
          ]
        },
        {
          "output_type": "stream",
          "name": "stdout",
          "text": [
            "Epoch [12/15], Loss: 0.0857, Val Loss: 0.0582\n"
          ]
        },
        {
          "output_type": "stream",
          "name": "stderr",
          "text": [
            "100%|██████████| 7/7 [00:00<00:00, 24.61it/s]\n"
          ]
        },
        {
          "output_type": "stream",
          "name": "stdout",
          "text": [
            "Epoch [13/15], Loss: 0.0828, Val Loss: 0.0596\n"
          ]
        },
        {
          "output_type": "stream",
          "name": "stderr",
          "text": [
            "100%|██████████| 7/7 [00:00<00:00, 24.00it/s]\n"
          ]
        },
        {
          "output_type": "stream",
          "name": "stdout",
          "text": [
            "Epoch [14/15], Loss: 0.0810, Val Loss: 0.0590\n"
          ]
        },
        {
          "output_type": "stream",
          "name": "stderr",
          "text": [
            "100%|██████████| 7/7 [00:00<00:00, 24.68it/s]"
          ]
        },
        {
          "output_type": "stream",
          "name": "stdout",
          "text": [
            "Epoch [15/15], Loss: 0.0814, Val Loss: 0.0593\n"
          ]
        },
        {
          "output_type": "stream",
          "name": "stderr",
          "text": [
            "\n"
          ]
        }
      ],
      "source": [
        "def train():\n",
        "    wandb.init(project=\"polygon-color-unet\")\n",
        "\n",
        "    transform = T.Compose([\n",
        "        T.Resize((128, 128)),\n",
        "        T.ToTensor()\n",
        "    ])\n",
        "\n",
        "    train_dataset = PolygonColorDataset(\"dataset/training\", transform)\n",
        "    val_dataset = PolygonColorDataset(\"dataset/validation\", transform)\n",
        "\n",
        "    train_loader = DataLoader(train_dataset, batch_size=8, shuffle=True)\n",
        "    val_loader = DataLoader(val_dataset, batch_size=8)\n",
        "\n",
        "    device = torch.device(\"cuda\" if torch.cuda.is_available() else \"cpu\")\n",
        "    model = UNet().to(device)\n",
        "    criterion = nn.MSELoss()\n",
        "    optimizer = optim.Adam(model.parameters(), lr=1e-3)\n",
        "\n",
        "    for epoch in range(15):\n",
        "        model.train()\n",
        "        running_loss = 0.0\n",
        "        for img, cond, target in tqdm(train_loader):\n",
        "            img, cond, target = img.to(device), cond.to(device), target.to(device)\n",
        "            optimizer.zero_grad()\n",
        "            output = model(img, cond)\n",
        "            loss = criterion(output, target)\n",
        "            loss.backward()\n",
        "            optimizer.step()\n",
        "            running_loss += loss.item()\n",
        "\n",
        "        avg_loss = running_loss / len(train_loader)\n",
        "        wandb.log({\"train_loss\": avg_loss})\n",
        "\n",
        "        # Validation\n",
        "        model.eval()\n",
        "        val_loss = 0.0\n",
        "        with torch.no_grad():\n",
        "            for img, cond, target in val_loader:\n",
        "                img, cond, target = img.to(device), cond.to(device), target.to(device)\n",
        "                output = model(img, cond)\n",
        "                loss = criterion(output, target)\n",
        "                val_loss += loss.item()\n",
        "        wandb.log({\"val_loss\": val_loss / len(val_loader)})\n",
        "\n",
        "        print(f\"Epoch [{epoch+1}/15], Loss: {avg_loss:.4f}, Val Loss: {val_loss/len(val_loader):.4f}\")\n",
        "\n",
        "    torch.save(model.state_dict(), \"unet_colored_polygon.pth\")\n",
        "\n",
        "if __name__ == \"__main__\":\n",
        "    train()"
      ]
    },
    {
      "cell_type": "code",
      "execution_count": null,
      "metadata": {
        "id": "YZloORgHqNkS"
      },
      "outputs": [],
      "source": []
    },
    {
      "cell_type": "code",
      "metadata": {
        "colab": {
          "base_uri": "https://localhost:8080/"
        },
        "id": "dea5a7d8",
        "outputId": "12e045d8-0ef9-4872-90a1-393d9264e827"
      },
      "source": [
        "import json\n",
        "\n",
        "with open(\"dataset/training/data.json\", \"r\") as f:\n",
        "    data_sample = json.load(f)\n",
        "\n",
        "# Print the first entry to inspect its structure\n",
        "print(data_sample[0])"
      ],
      "execution_count": 6,
      "outputs": [
        {
          "output_type": "stream",
          "name": "stdout",
          "text": [
            "{'input_polygon': 'octagon.png', 'colour': 'cyan', 'output_image': 'cyan_octagon.png'}\n"
          ]
        }
      ]
    },
    {
      "cell_type": "code",
      "source": [
        "import os\n",
        "\n",
        "val_images = os.listdir(\"dataset/validation/inputs\")\n",
        "print(val_images)\n"
      ],
      "metadata": {
        "colab": {
          "base_uri": "https://localhost:8080/"
        },
        "id": "bm9OgCdujTKx",
        "outputId": "0334bb4e-5853-48b1-df34-9f663de83669"
      },
      "execution_count": 9,
      "outputs": [
        {
          "output_type": "stream",
          "name": "stdout",
          "text": [
            "['triangle.png', 'octagon.png', 'star.png', 'square.png']\n"
          ]
        }
      ]
    },
    {
      "cell_type": "code",
      "source": [
        "import torch\n",
        "from PIL import Image\n",
        "import torchvision.transforms as T\n",
        "import matplotlib.pyplot as plt\n",
        "import os\n",
        "\n",
        "# Load your model architecture\n",
        "class ConvBlock(torch.nn.Module):\n",
        "    def __init__(self, in_ch, out_ch):\n",
        "        super().__init__()\n",
        "        self.block = torch.nn.Sequential(\n",
        "            torch.nn.Conv2d(in_ch, out_ch, 3, padding=1),\n",
        "            torch.nn.ReLU(),\n",
        "            torch.nn.Conv2d(out_ch, out_ch, 3, padding=1),\n",
        "            torch.nn.ReLU()\n",
        "        )\n",
        "\n",
        "    def forward(self, x):\n",
        "        return self.block(x)\n",
        "\n",
        "class UNet(torch.nn.Module):\n",
        "    def __init__(self, in_ch=1, cond_ch=3, out_ch=3):\n",
        "        super().__init__()\n",
        "        self.enc1 = ConvBlock(in_ch + cond_ch, 64)\n",
        "        self.enc2 = ConvBlock(64, 128)\n",
        "        self.pool = torch.nn.MaxPool2d(2)\n",
        "        self.dec1 = ConvBlock(128, 64)\n",
        "        self.final = torch.nn.Conv2d(64, out_ch, 1)\n",
        "\n",
        "    def forward(self, x, cond):\n",
        "        cond = cond.view(cond.shape[0], cond.shape[1], 1, 1)\n",
        "        cond = cond.expand(-1, -1, x.shape[2], x.shape[3])\n",
        "        x = torch.cat([x, cond], dim=1)\n",
        "        x1 = self.enc1(x)\n",
        "        x2 = self.pool(x1)\n",
        "        x3 = self.enc2(x2)\n",
        "        x4 = torch.nn.functional.interpolate(x3, scale_factor=2, mode='bilinear', align_corners=False)\n",
        "        x5 = self.dec1(x4)\n",
        "        return self.final(x5)\n",
        "\n",
        "# Load trained model\n",
        "model = UNet()\n",
        "model.load_state_dict(torch.load(\"unet_colored_polygon.pth\", map_location=\"cpu\"))\n",
        "model.eval()\n",
        "\n",
        "# Color dictionary\n",
        "color_dict = {\n",
        "    \"red\": (1, 0, 0),\n",
        "    \"green\": (0, 1, 0),\n",
        "    \"blue\": (0, 0, 1),\n",
        "    \"yellow\": (1, 1, 0),\n",
        "    \"purple\": (1, 0, 1),\n",
        "    \"cyan\": (0, 1, 1),\n",
        "    \"black\": (0, 0, 0),\n",
        "    \"white\": (1, 1, 1),\n",
        "    \"orange\": (1, 0.5, 0), # Added orange\n",
        "    \"magenta\": (1, 0, 1)\n",
        "}\n",
        "\n",
        "# Define function to perform inference and display results\n",
        "def predict_and_display(input_polygon_filename, color_name):\n",
        "    try:\n",
        "        input_img_path = os.path.join(\"dataset/validation/inputs\", input_polygon_filename)\n",
        "        print(f\"Loading input image from: {input_img_path}\")\n",
        "        img = Image.open(input_img_path).convert(\"L\")\n",
        "\n",
        "        transform = T.Compose([\n",
        "            T.Resize((128, 128)),\n",
        "            T.ToTensor()\n",
        "        ])\n",
        "        img_tensor = transform(img).unsqueeze(0)\n",
        "\n",
        "        print(f\"Using color: {color_name}\")\n",
        "        color_tensor = torch.tensor([color_dict[color_name]]).float()\n",
        "\n",
        "        # Predict\n",
        "        with torch.no_grad():\n",
        "            output = model(img_tensor, color_tensor)\n",
        "        print(\"Inference complete.\")\n",
        "        print(f\"Output tensor shape: {output.shape}, dtype: {output.dtype}\")\n",
        "\n",
        "\n",
        "        # Show result\n",
        "        output_img = T.ToPILImage()(output.squeeze(0))\n",
        "        print(\"Converted output tensor to PIL Image.\")\n",
        "\n",
        "        plt.figure(figsize=(8,4))\n",
        "        plt.subplot(1,2,1)\n",
        "        plt.imshow(output_img)\n",
        "        plt.title(\"Input Polygon\")\n",
        "        plt.axis(\"off\")\n",
        "        plt.subplot(1,2,2)\n",
        "        plt.imshow(output_img)\n",
        "        plt.title(f\"Predicted Color: {color_name}\")\n",
        "        plt.axis(\"off\")\n",
        "        plt.show()\n",
        "        print(\"Images displayed.\")\n",
        "\n",
        "    except Exception as e:\n",
        "        print(f\"An error occurred during prediction or display: {e}\")\n",
        "\n",
        "\n",
        "# Example usage:\n",
        "# predict_and_display(\"triangle.png\", \"red\")\n",
        "# predict_and_display(\"octagon.png\", \"blue\")\n",
        "# predict_and_display(\"square.png\", \"green\")"
      ],
      "metadata": {
        "id": "bLwAEHXniqS_"
      },
      "execution_count": 23,
      "outputs": []
    },
    {
      "cell_type": "code",
      "source": [
        "predict_and_display(\"triangle.png\", \"green\")\n"
      ],
      "metadata": {
        "colab": {
          "base_uri": "https://localhost:8080/",
          "height": 445
        },
        "id": "rEOLOUWtjEu8",
        "outputId": "5f919e87-dc26-4b24-abe4-f7667d543516"
      },
      "execution_count": 25,
      "outputs": [
        {
          "output_type": "stream",
          "name": "stdout",
          "text": [
            "Loading input image from: dataset/validation/inputs/triangle.png\n",
            "Using color: green\n",
            "Inference complete.\n",
            "Output tensor shape: torch.Size([1, 3, 128, 128]), dtype: torch.float32\n",
            "Converted output tensor to PIL Image.\n"
          ]
        },
        {
          "output_type": "display_data",
          "data": {
            "text/plain": [
              "<Figure size 800x400 with 2 Axes>"
            ],
            "image/png": "[encoded data removed]"
          },
          "metadata": {}
        },
        {
          "output_type": "stream",
          "name": "stdout",
          "text": [
            "Images displayed.\n"
          ]
        }
      ]
    },
    {
      "cell_type": "code",
      "source": [
        "# 📦 Install & Login to WandB (Run this once per Colab session)\n",
        "!pip install -q wandb\n",
        "import wandb\n",
        "wandb.login()\n",
        "\n"
      ],
      "metadata": {
        "colab": {
          "base_uri": "https://localhost:8080/"
        },
        "id": "FRNUNcSZmE6f",
        "outputId": "68e593b4-2a84-49df-bfa3-7f3efacf7e00"
      },
      "execution_count": 26,
      "outputs": [
        {
          "output_type": "stream",
          "name": "stderr",
          "text": [
            "\u001b[34m\u001b[1mwandb\u001b[0m: \u001b[33mWARNING\u001b[0m Calling wandb.login() after wandb.init() has no effect.\n"
          ]
        },
        {
          "output_type": "execute_result",
          "data": {
            "text/plain": [
              "True"
            ]
          },
          "metadata": {},
          "execution_count": 26
        }
      ]
    },
    {
      "cell_type": "code",
      "source": [
        "# 🧠 Imports\n",
        "import torch\n",
        "from PIL import Image\n",
        "import torchvision.transforms as T\n",
        "import matplotlib.pyplot as plt\n",
        "import os\n",
        "\n",
        "# 🏗️ UNet Model Definition\n",
        "class ConvBlock(torch.nn.Module):\n",
        "    def __init__(self, in_ch, out_ch):\n",
        "        super().__init__()\n",
        "        self.block = torch.nn.Sequential(\n",
        "            torch.nn.Conv2d(in_ch, out_ch, 3, padding=1),\n",
        "            torch.nn.ReLU(),\n",
        "            torch.nn.Conv2d(out_ch, out_ch, 3, padding=1),\n",
        "            torch.nn.ReLU()\n",
        "        )\n",
        "    def forward(self, x):\n",
        "        return self.block(x)\n",
        "\n",
        "class UNet(torch.nn.Module):\n",
        "    def __init__(self, in_ch=1, cond_ch=3, out_ch=3):\n",
        "        super().__init__()\n",
        "        self.enc1 = ConvBlock(in_ch + cond_ch, 64)\n",
        "        self.enc2 = ConvBlock(64, 128)\n",
        "        self.pool = torch.nn.MaxPool2d(2)\n",
        "        self.dec1 = ConvBlock(128, 64)\n",
        "        self.final = torch.nn.Conv2d(64, out_ch, 1)\n",
        "\n",
        "    def forward(self, x, cond):\n",
        "        cond = cond.view(cond.shape[0], cond.shape[1], 1, 1)\n",
        "        cond = cond.expand(-1, -1, x.shape[2], x.shape[3])\n",
        "        x = torch.cat([x, cond], dim=1)\n",
        "        x1 = self.enc1(x)\n",
        "        x2 = self.pool(x1)\n",
        "        x3 = self.enc2(x2)\n",
        "        x4 = torch.nn.functional.interpolate(x3, scale_factor=2, mode='bilinear', align_corners=False)\n",
        "        x5 = self.dec1(x4)\n",
        "        return self.final(x5)\n",
        "\n",
        "# 🎯 Initialize WandB Run\n",
        "wandb.init(\n",
        "    project=\"colored-polygon-unet\",\n",
        "    name=\"inference-debug-session\",\n",
        "    job_type=\"inference\"\n",
        ")\n",
        "\n",
        "# 🎨 Color Dictionary\n",
        "color_dict = {\n",
        "    \"red\": (1, 0, 0),\n",
        "    \"green\": (0, 1, 0),\n",
        "    \"blue\": (0, 0, 1),\n",
        "    \"yellow\": (1, 1, 0),\n",
        "    \"purple\": (1, 0, 1),\n",
        "    \"cyan\": (0, 1, 1),\n",
        "    \"black\": (0, 0, 0),\n",
        "    \"white\": (1, 1, 1),\n",
        "    \"orange\": (1, 0.5, 0),\n",
        "    \"magenta\": (1, 0, 1)\n",
        "}\n",
        "\n",
        "# 📥 Load Model\n",
        "model = UNet()\n",
        "model.load_state_dict(torch.load(\"unet_colored_polygon.pth\", map_location=\"cpu\"))\n",
        "model.eval()\n",
        "\n",
        "# 🔍 Prediction + WandB Logging Function\n",
        "def predict_and_display(input_polygon_filename, color_name):\n",
        "    try:\n",
        "        input_img_path = os.path.join(\"dataset/validation/inputs\", input_polygon_filename)\n",
        "        assert os.path.exists(input_img_path), f\"❌ File not found: {input_img_path}\"\n",
        "\n",
        "        img = Image.open(input_img_path).convert(\"L\")\n",
        "\n",
        "        transform = T.Compose([\n",
        "            T.Resize((128, 128)),\n",
        "            T.ToTensor()\n",
        "        ])\n",
        "        img_tensor = transform(img).unsqueeze(0)\n",
        "\n",
        "        assert color_name in color_dict, f\"❌ Color '{color_name}' not in color_dict!\"\n",
        "        color_tensor = torch.tensor([color_dict[color_name]]).float()\n",
        "\n",
        "        with torch.no_grad():\n",
        "            output = model(img_tensor, color_tensor)\n",
        "\n",
        "        # Clamp & convert to image\n",
        "        output = torch.clamp(output, 0.0, 1.0)\n",
        "        output_img = T.ToPILImage()(output.squeeze(0))\n",
        "\n",
        "        # 🎯 Log to WandB\n",
        "        wandb.log({\n",
        "            \"Input Polygon\": wandb.Image(img, caption=\"Input Grayscale\"),\n",
        "            \"Predicted Output\": wandb.Image(output_img, caption=f\"Color: {color_name}\"),\n",
        "            \"Red Channel Mean\": output[0, 0].mean().item(),\n",
        "            \"Green Channel Mean\": output[0, 1].mean().item(),\n",
        "            \"Blue Channel Mean\": output[0, 2].mean().item()\n",
        "        })\n",
        "\n",
        "        # 🖼️ Show images\n",
        "        plt.figure(figsize=(8, 4))\n",
        "        plt.subplot(1, 2, 1)\n",
        "        plt.imshow(output_img)\n",
        "        plt.title(\"Input Polygon\")\n",
        "        plt.axis(\"off\")\n",
        "\n",
        "        plt.subplot(1, 2, 2)\n",
        "        plt.imshow(output_img)\n",
        "        plt.title(f\"Predicted Color: {color_name}\")\n",
        "        plt.axis(\"off\")\n",
        "        plt.tight_layout()\n",
        "        plt.show()\n",
        "\n",
        "    except Exception as e:\n",
        "        print(f\" Error: {e}\")\n",
        "\n",
        "# Example usage:\n",
        "predict_and_display(\"square.png\", \"orange\")\n",
        "\n",
        "# Finish WandB run\n",
        "wandb.finish()\n"
      ],
      "metadata": {
        "colab": {
          "base_uri": "https://localhost:8080/",
          "height": 891
        },
        "id": "JmB4op3Nn5VW",
        "outputId": "38d8060c-f295-444b-dae3-04ff849f82fd"
      },
      "execution_count": 31,
      "outputs": [
        {
          "output_type": "display_data",
          "data": {
            "text/plain": [
              "<IPython.core.display.HTML object>"
            ],
            "text/html": [
              "Tracking run with wandb version 0.21.0"
            ]
          },
          "metadata": {}
        },
        {
          "output_type": "display_data",
          "data": {
            "text/plain": [
              "<IPython.core.display.HTML object>"
            ],
            "text/html": [
              "Run data is saved locally in <code>/content/wandb/run-20250804_151330-dxbk18e4</code>"
            ]
          },
          "metadata": {}
        },
        {
          "output_type": "display_data",
          "data": {
            "text/plain": [
              "<IPython.core.display.HTML object>"
            ],
            "text/html": [
              "Syncing run <strong><a href='https://wandb.ai/girisanskruti0404-national-institute-of-technology-patna/colored-polygon-unet/runs/dxbk18e4' target=\"_blank\">inference-debug-session</a></strong> to <a href='https://wandb.ai/girisanskruti0404-national-institute-of-technology-patna/colored-polygon-unet' target=\"_blank\">Weights & Biases</a> (<a href='https://wandb.me/developer-guide' target=\"_blank\">docs</a>)<br>"
            ]
          },
          "metadata": {}
        },
        {
          "output_type": "display_data",
          "data": {
            "text/plain": [
              "<IPython.core.display.HTML object>"
            ],
            "text/html": [
              " View project at <a href='https://wandb.ai/girisanskruti0404-national-institute-of-technology-patna/colored-polygon-unet' target=\"_blank\">https://wandb.ai/girisanskruti0404-national-institute-of-technology-patna/colored-polygon-unet</a>"
            ]
          },
          "metadata": {}
        },
        {
          "output_type": "display_data",
          "data": {
            "text/plain": [
              "<IPython.core.display.HTML object>"
            ],
            "text/html": [
              " View run at <a href='https://wandb.ai/girisanskruti0404-national-institute-of-technology-patna/colored-polygon-unet/runs/dxbk18e4' target=\"_blank\">https://wandb.ai/girisanskruti0404-national-institute-of-technology-patna/colored-polygon-unet/runs/dxbk18e4</a>"
            ]
          },
          "metadata": {}
        },
        {
          "output_type": "display_data",
          "data": {
            "text/plain": [
              "<Figure size 800x400 with 2 Axes>"
            ],
            "image/png": "[encoded data removed]"
          },
          "metadata": {}
        },
        {
          "output_type": "display_data",
          "data": {
            "text/plain": [
              "<IPython.core.display.HTML object>"
            ],
            "text/html": []
          },
          "metadata": {}
        },
        {
          "output_type": "display_data",
          "data": {
            "text/plain": [
              "<IPython.core.display.HTML object>"
            ],
            "text/html": [
              "<br>    <style><br>        .wandb-row {<br>            display: flex;<br>            flex-direction: row;<br>            flex-wrap: wrap;<br>            justify-content: flex-start;<br>            width: 100%;<br>        }<br>        .wandb-col {<br>            display: flex;<br>            flex-direction: column;<br>            flex-basis: 100%;<br>            flex: 1;<br>            padding: 10px;<br>        }<br>    </style><br><div class=\"wandb-row\"><div class=\"wandb-col\"><h3>Run history:</h3><br/><table class=\"wandb\"><tr><td>Blue Channel Mean</td><td>▁</td></tr><tr><td>Green Channel Mean</td><td>▁</td></tr><tr><td>Red Channel Mean</td><td>▁</td></tr></table><br/></div><div class=\"wandb-col\"><h3>Run summary:</h3><br/><table class=\"wandb\"><tr><td>Blue Channel Mean</td><td>0.7793</td></tr><tr><td>Green Channel Mean</td><td>0.89114</td></tr><tr><td>Red Channel Mean</td><td>0.93365</td></tr></table><br/></div></div>"
            ]
          },
          "metadata": {}
        },
        {
          "output_type": "display_data",
          "data": {
            "text/plain": [
              "<IPython.core.display.HTML object>"
            ],
            "text/html": [
              " View run <strong style=\"color:#cdcd00\">inference-debug-session</strong> at: <a href='https://wandb.ai/girisanskruti0404-national-institute-of-technology-patna/colored-polygon-unet/runs/dxbk18e4' target=\"_blank\">https://wandb.ai/girisanskruti0404-national-institute-of-technology-patna/colored-polygon-unet/runs/dxbk18e4</a><br> View project at: <a href='https://wandb.ai/girisanskruti0404-national-institute-of-technology-patna/colored-polygon-unet' target=\"_blank\">https://wandb.ai/girisanskruti0404-national-institute-of-technology-patna/colored-polygon-unet</a><br>Synced 5 W&B file(s), 2 media file(s), 0 artifact file(s) and 0 other file(s)"
            ]
          },
          "metadata": {}
        },
        {
          "output_type": "display_data",
          "data": {
            "text/plain": [
              "<IPython.core.display.HTML object>"
            ],
            "text/html": [
              "Find logs at: <code>./wandb/run-20250804_151330-dxbk18e4/logs</code>"
            ]
          },
          "metadata": {}
        }
      ]
    },
    {
      "cell_type": "code",
      "source": [],
      "metadata": {
        "id": "1tPYhd1ln-NJ"
      },
      "execution_count": null,
      "outputs": []
    }
  ],
  "metadata": {
    "accelerator": "GPU",
    "colab": {
      "gpuType": "T4",
      "provenance": []
    },
    "kernelspec": {
      "display_name": "Python 3",
      "name": "python3"
    },
    "language_info": {
      "name": "python"
    }
  },
  "nbformat": 4,
  "nbformat_minor": 0
}